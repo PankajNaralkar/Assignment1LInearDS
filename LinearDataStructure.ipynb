{
 "cells": [
  {
   "cell_type": "code",
   "execution_count": 2,
   "metadata": {},
   "outputs": [
    {
     "name": "stdout",
     "output_type": "stream",
     "text": [
      "Count of pairs is 3\n"
     ]
    }
   ],
   "source": [
    "#Question 1\n",
    "def getPairsCount(arr, n, sum):\n",
    " \n",
    "    count = 0  \n",
    "    for i in range(0, n):\n",
    "        for j in range(i + 1, n):\n",
    "            if arr[i] + arr[j] == sum:\n",
    "                count += 1\n",
    " \n",
    "    return count\n",
    "\n",
    "arr = [1, 5, 7, -1, 5]\n",
    "n = len(arr)\n",
    "sum = 6\n",
    "print(\"Count of pairs is\",\n",
    "      getPairsCount(arr, n, sum))"
   ]
  },
  {
   "cell_type": "code",
   "execution_count": 4,
   "metadata": {},
   "outputs": [
    {
     "name": "stdout",
     "output_type": "stream",
     "text": [
      "[10, 20, 30, 40, 50, 60]\n",
      "Reversed list is\n",
      "[60, 50, 40, 30, 20, 10]\n"
     ]
    }
   ],
   "source": [
    "#Question 2\n",
    "def reverseList(A, start, end):\n",
    "    while start < end:\n",
    "        A[start], A[end] = A[end], A[start]\n",
    "        start += 1\n",
    "        end -= 1\n",
    " \n",
    "# Driver function to test above function\n",
    "A = [10, 20, 30, 40, 50, 60]\n",
    "print(A)\n",
    "reverseList(A, 0, 5)\n",
    "print(\"Reversed list is\")\n",
    "print(A)"
   ]
  },
  {
   "cell_type": "code",
   "execution_count": 5,
   "metadata": {},
   "outputs": [
    {
     "name": "stdout",
     "output_type": "stream",
     "text": [
      "Strings are rotations of each other\n"
     ]
    }
   ],
   "source": [
    "#Question 3\n",
    "def areRotations(string1, string2):\n",
    "    size1 = len(string1)\n",
    "    size2 = len(string2)\n",
    "    temp = ''\n",
    "\n",
    "    if size1 != size2:\n",
    "        return 0\n",
    " \n",
    "   \n",
    "    temp = string1 + string1\n",
    " \n",
    "    \n",
    "    if (temp.count(string2) > 0):\n",
    "        return 1\n",
    "    else:\n",
    "        return 0\n",
    " \n",
    " \n",
    "\n",
    "if __name__ == \"__main__\":\n",
    "    string1 = \"AACD\"\n",
    "    string2 = \"ACDA\"\n",
    " \n",
    "   \n",
    "    if areRotations(string1, string2):\n",
    "        print(\"Strings are rotations of each other\")\n",
    "    else:\n",
    "        print(\"Strings are not rotations of each other\")\n",
    " "
   ]
  },
  {
   "cell_type": "code",
   "execution_count": 6,
   "metadata": {},
   "outputs": [
    {
     "name": "stdout",
     "output_type": "stream",
     "text": [
      "First non-repeating character is E\n"
     ]
    }
   ],
   "source": [
    "#Question 4\n",
    "string = \"EdYoda\"\n",
    "index = -1\n",
    "fnc = \"\"\n",
    "for i in string:\n",
    "    if string.count(i) == 1:\n",
    "        fnc += i\n",
    "        break\n",
    "    else:\n",
    "        index += 1\n",
    "if index == 1:\n",
    "    print(\"Either all characters are repeating or string is empty\")\n",
    "else:\n",
    "    print(\"First non-repeating character is\", fnc)"
   ]
  },
  {
   "cell_type": "code",
   "execution_count": 7,
   "metadata": {},
   "outputs": [
    {
     "name": "stdout",
     "output_type": "stream",
     "text": [
      "Move disk 1 from rod A to rod C\n",
      "Move disk 2 from rod A to rod B\n",
      "Move disk 1 from rod C to rod B\n",
      "Move disk 3 from rod A to rod C\n",
      "Move disk 1 from rod B to rod A\n",
      "Move disk 2 from rod B to rod C\n",
      "Move disk 1 from rod A to rod C\n"
     ]
    }
   ],
   "source": [
    "#Question 5\n",
    "def TowerOfHanoi(n, from_rod, to_rod, aux_rod):\n",
    "    if n == 0:\n",
    "        return\n",
    "    TowerOfHanoi(n-1, from_rod, aux_rod, to_rod)\n",
    "    print(\"Move disk\", n, \"from rod\", from_rod, \"to rod\", to_rod)\n",
    "    TowerOfHanoi(n-1, aux_rod, to_rod, from_rod)\n",
    " \n",
    " \n",
    "\n",
    "N = 3\n",
    " \n",
    "\n",
    "TowerOfHanoi(N, 'A', 'C', 'B')"
   ]
  },
  {
   "cell_type": "code",
   "execution_count": 12,
   "metadata": {},
   "outputs": [
    {
     "name": "stdout",
     "output_type": "stream",
     "text": [
      "AK/L- ) & ( 5 AB-C* A K =\n"
     ]
    }
   ],
   "source": [
    "#Question 6\n",
    "s = \"=KA*-ABC5(&)-/AKL\"\n",
    " \n",
    "\n",
    "stack = []\n",
    " \n",
    "operators = set(['+', '-', '*', '/', '^'])\n",
    " \n",
    "\n",
    "s = s[::-1]\n",
    " \n",
    "\n",
    "for i in s:\n",
    " \n",
    "    if i in operators:\n",
    " \n",
    "        a = stack.pop()\n",
    "        b = stack.pop()\n",
    " \n",
    "        \n",
    "        temp = a+b+i\n",
    "        stack.append(temp)\n",
    " \n",
    "    \n",
    "    else:\n",
    "        stack.append(i)\n",
    "\n",
    "print(*stack)"
   ]
  },
  {
   "cell_type": "code",
   "execution_count": 15,
   "metadata": {},
   "outputs": [
    {
     "name": "stdout",
     "output_type": "stream",
     "text": [
      "((A-(B/C))*((A/K)-L))\n"
     ]
    }
   ],
   "source": [
    "#Question 7\n",
    "def prefixToInfix(prefix):\n",
    "    stack = []\n",
    "     \n",
    "    \n",
    "    i = len(prefix) - 1\n",
    "    while i >= 0:\n",
    "        if not isOperator(prefix[i]):\n",
    "             \n",
    "            \n",
    "            stack.append(prefix[i])\n",
    "            i -= 1\n",
    "        else:\n",
    "           \n",
    "            \n",
    "            str = \"(\" + stack.pop() + prefix[i] + stack.pop() + \")\"\n",
    "            stack.append(str)\n",
    "            i -= 1\n",
    "     \n",
    "    return stack.pop()\n",
    " \n",
    "def isOperator(c):\n",
    "    if c == \"*\" or c == \"+\" or c == \"-\" or c == \"/\" or c == \"^\" or c == \"(\" or c == \")\":\n",
    "        return True\n",
    "    else:\n",
    "        return False\n",
    " \n",
    "\n",
    "if __name__==\"__main__\":\n",
    "    str = \"*-A/BC-/AKL\"\n",
    "    print(prefixToInfix(str))\n",
    "     "
   ]
  },
  {
   "cell_type": "code",
   "execution_count": 16,
   "metadata": {},
   "outputs": [
    {
     "name": "stdout",
     "output_type": "stream",
     "text": [
      "Balanced\n"
     ]
    }
   ],
   "source": [
    "#Question 8\n",
    "def areBracketsBalanced(expr):\n",
    "    stack = []\n",
    " \n",
    "   \n",
    "    for char in expr:\n",
    "        if char in [\"(\", \"{\", \"[\"]:\n",
    " \n",
    "            \n",
    "            stack.append(char)\n",
    "        else:\n",
    " \n",
    "        \n",
    "            if not stack:\n",
    "                return False\n",
    "            current_char = stack.pop()\n",
    "            if current_char == '(':\n",
    "                if char != \")\":\n",
    "                    return False\n",
    "            if current_char == '{':\n",
    "                if char != \"}\":\n",
    "                    return False\n",
    "            if current_char == '[':\n",
    "                if char != \"]\":\n",
    "                    return False\n",
    " \n",
    "    if stack:\n",
    "        return False\n",
    "    return True\n",
    " \n",
    " \n",
    "\n",
    "if __name__ == \"__main__\":\n",
    "    expr = \"{()}[]\"\n",
    " \n",
    "    # Function call\n",
    "    if areBracketsBalanced(expr):\n",
    "        print(\"Balanced\")\n",
    "    else:\n",
    "        print(\"Not Balanced\")"
   ]
  },
  {
   "cell_type": "code",
   "execution_count": 17,
   "metadata": {},
   "outputs": [
    {
     "name": "stdout",
     "output_type": "stream",
     "text": [
      "Original Stack\n",
      "5\n",
      "4\n",
      "3\n",
      "2\n",
      "1\n",
      "\n",
      "Stack after Reversing\n",
      "1\n",
      "2\n",
      "3\n",
      "4\n",
      "5\n"
     ]
    }
   ],
   "source": [
    "#Question 9\n",
    "class Stack:\n",
    " \n",
    "    def __init__(self):\n",
    "        self.Elements = []\n",
    "         \n",
    "  \n",
    "    def push(self, value):\n",
    "        self.Elements.append(value)\n",
    "       \n",
    "  \n",
    "    def pop(self):\n",
    "        return self.Elements.pop()\n",
    "     \n",
    "   \n",
    "    def empty(self):\n",
    "        return self.Elements == []\n",
    "     \n",
    "    \n",
    "    def show(self):\n",
    "        for value in reversed(self.Elements):\n",
    "            print(value)\n",
    " \n",
    "\n",
    "def BottomInsert(s, value):\n",
    "   \n",
    "   \n",
    "    if s.empty():\n",
    "         \n",
    "        \n",
    "        s.push(value)\n",
    "         \n",
    "  \n",
    "    else:\n",
    "        popped = s.pop()\n",
    "        BottomInsert(s, value)\n",
    "        s.push(popped)\n",
    " \n",
    "\n",
    "def Reverse(s):\n",
    "    if s.empty():\n",
    "        pass\n",
    "    else:\n",
    "        popped = s.pop()\n",
    "        Reverse(s)\n",
    "        BottomInsert(s, popped)\n",
    " \n",
    " \n",
    "\n",
    "stk = Stack()\n",
    " \n",
    "stk.push(1)\n",
    "stk.push(2)\n",
    "stk.push(3)\n",
    "stk.push(4)\n",
    "stk.push(5)\n",
    " \n",
    "print(\"Original Stack\")\n",
    "stk.show()\n",
    " \n",
    "print(\"\\nStack after Reversing\")\n",
    "Reverse(stk)\n",
    "stk.show()"
   ]
  },
  {
   "cell_type": "code",
   "execution_count": 18,
   "metadata": {},
   "outputs": [
    {
     "name": "stdout",
     "output_type": "stream",
     "text": [
      "Number Inserted: 3\n",
      "Number Inserted: 5\n",
      "Minimum Element in the stack is: 3\n",
      "Number Inserted: 2\n",
      "Number Inserted: 1\n",
      "Minimum Element in the stack is: 1\n",
      "Top Most Element Removed :1 \n",
      "Minimum Element in the stack is: 2\n",
      "Top Most Element Removed :2 \n",
      "Top Most Element is: 5\n"
     ]
    }
   ],
   "source": [
    "#Question 10\n",
    "class Node:\n",
    "    \n",
    "    def __init__(self, value):\n",
    "        self.value = value\n",
    "        self.next = None\n",
    " \n",
    "    \n",
    "    def __str__(self):\n",
    "        return \"Node({})\".format(self.value)\n",
    " \n",
    "   \n",
    "    __repr__ = __str__\n",
    " \n",
    " \n",
    "class Stack:\n",
    "    \n",
    "    def __init__(self):\n",
    "        self.top = None\n",
    "        self.count = 0\n",
    "        self.minimum = None\n",
    " \n",
    "    \n",
    "    def __str__(self):\n",
    "        temp = self.top\n",
    "        out = []\n",
    "        while temp:\n",
    "            out.append(str(temp.value))\n",
    "            temp = temp.next\n",
    "        out = '\\n'.join(out)\n",
    "        return ('Top {} \\n\\nStack :\\n{}'.format(self.top, out))\n",
    " \n",
    "    \n",
    "    __repr__ = __str__\n",
    " \n",
    "    \n",
    "    def getMin(self):\n",
    "        if self.top is None:\n",
    "            return \"Stack is empty\"\n",
    "        else:\n",
    "            print(\"Minimum Element in the stack is: {}\" .format(self.minimum))\n",
    " \n",
    "   \n",
    " \n",
    "    def isEmpty(self):\n",
    "       \n",
    "        if self.top == None:\n",
    "            return True\n",
    "        else:\n",
    "            \n",
    "            return False\n",
    " \n",
    "    \n",
    "    def __len__(self):\n",
    "        self.count = 0\n",
    "        tempNode = self.top\n",
    "        while tempNode:\n",
    "            tempNode = tempNode.next\n",
    "            self.count += 1\n",
    "        return self.count\n",
    " \n",
    "  \n",
    "    def peek(self):\n",
    "        if self.top is None:\n",
    "            print(\"Stack is empty\")\n",
    "        else:\n",
    "            if self.top.value < self.minimum:\n",
    "                print(\"Top Most Element is: {}\" .format(self.minimum))\n",
    "            else:\n",
    "                print(\"Top Most Element is: {}\" .format(self.top.value))\n",
    " \n",
    "  \n",
    "    def push(self, value):\n",
    "        if self.top is None:\n",
    "            self.top = Node(value)\n",
    "            self.minimum = value\n",
    " \n",
    "        elif value < self.minimum:\n",
    "            temp = (2 * value) - self.minimum\n",
    "            new_node = Node(temp)\n",
    "            new_node.next = self.top\n",
    "            self.top = new_node\n",
    "            self.minimum = value\n",
    "        else:\n",
    "            new_node = Node(value)\n",
    "            new_node.next = self.top\n",
    "            self.top = new_node\n",
    "        print(\"Number Inserted: {}\" .format(value))\n",
    " \n",
    "    \n",
    "    def pop(self):\n",
    "        if self.top is None:\n",
    "            print(\"Stack is empty\")\n",
    "        else:\n",
    "            removedNode = self.top.value\n",
    "            self.top = self.top.next\n",
    "            if removedNode < self.minimum:\n",
    "                print(\"Top Most Element Removed :{} \" .format(self.minimum))\n",
    "                self.minimum = ((2 * self.minimum) - removedNode)\n",
    "            else:\n",
    "                print(\"Top Most Element Removed : {}\" .format(removedNode))\n",
    " \n",
    " \n",
    "if __name__ == '__main__':\n",
    "   \n",
    "  stack = Stack()\n",
    "   \n",
    "\n",
    "  stack.push(3)\n",
    "  stack.push(5)\n",
    "  stack.getMin()\n",
    "  stack.push(2)\n",
    "  stack.push(1)\n",
    "  stack.getMin()\n",
    "  stack.pop()\n",
    "  stack.getMin()\n",
    "  stack.pop()\n",
    "  stack.peek()"
   ]
  }
 ],
 "metadata": {
  "kernelspec": {
   "display_name": "Python 3.10.7 64-bit",
   "language": "python",
   "name": "python3"
  },
  "language_info": {
   "codemirror_mode": {
    "name": "ipython",
    "version": 3
   },
   "file_extension": ".py",
   "mimetype": "text/x-python",
   "name": "python",
   "nbconvert_exporter": "python",
   "pygments_lexer": "ipython3",
   "version": "3.10.7"
  },
  "orig_nbformat": 4,
  "vscode": {
   "interpreter": {
    "hash": "29d5eb84ec68fff3feafca54739f69c3f8b31b50bdab999996e473d3041e6bd9"
   }
  }
 },
 "nbformat": 4,
 "nbformat_minor": 2
}
